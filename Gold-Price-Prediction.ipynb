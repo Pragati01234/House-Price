{
 "cells": [
  {
   "cell_type": "code",
   "execution_count": 1,
   "id": "18789d87",
   "metadata": {},
   "outputs": [],
   "source": [
    "import numpy as np\n",
    "import pandas as pd\n",
    "import matplotlib.pyplot as plt\n",
    "import seaborn as sns\n",
    "from sklearn.model_selection import train_test_split\n",
    "from sklearn.ensemble import RandomForestRegressor\n",
    "from sklearn import metrics"
   ]
  },
  {
   "cell_type": "code",
   "execution_count": 3,
   "id": "08d39286",
   "metadata": {},
   "outputs": [],
   "source": [
    "# loading the csv data to a Pandas DataFrame\n",
    "gold_data = pd.read_csv('D:\\panda\\gld_price_data.csv')"
   ]
  },
  {
   "cell_type": "code",
   "execution_count": 4,
   "id": "1527f884",
   "metadata": {},
   "outputs": [
    {
     "data": {
      "text/html": [
       "<div>\n",
       "<style scoped>\n",
       "    .dataframe tbody tr th:only-of-type {\n",
       "        vertical-align: middle;\n",
       "    }\n",
       "\n",
       "    .dataframe tbody tr th {\n",
       "        vertical-align: top;\n",
       "    }\n",
       "\n",
       "    .dataframe thead th {\n",
       "        text-align: right;\n",
       "    }\n",
       "</style>\n",
       "<table border=\"1\" class=\"dataframe\">\n",
       "  <thead>\n",
       "    <tr style=\"text-align: right;\">\n",
       "      <th></th>\n",
       "      <th>Date</th>\n",
       "      <th>SPX</th>\n",
       "      <th>GLD</th>\n",
       "      <th>USO</th>\n",
       "      <th>SLV</th>\n",
       "      <th>EUR/USD</th>\n",
       "    </tr>\n",
       "  </thead>\n",
       "  <tbody>\n",
       "    <tr>\n",
       "      <th>0</th>\n",
       "      <td>1/2/2008</td>\n",
       "      <td>1447.160034</td>\n",
       "      <td>84.860001</td>\n",
       "      <td>78.470001</td>\n",
       "      <td>15.180</td>\n",
       "      <td>1.471692</td>\n",
       "    </tr>\n",
       "    <tr>\n",
       "      <th>1</th>\n",
       "      <td>1/3/2008</td>\n",
       "      <td>1447.160034</td>\n",
       "      <td>85.570000</td>\n",
       "      <td>78.370003</td>\n",
       "      <td>15.285</td>\n",
       "      <td>1.474491</td>\n",
       "    </tr>\n",
       "    <tr>\n",
       "      <th>2</th>\n",
       "      <td>1/4/2008</td>\n",
       "      <td>1411.630005</td>\n",
       "      <td>85.129997</td>\n",
       "      <td>77.309998</td>\n",
       "      <td>15.167</td>\n",
       "      <td>1.475492</td>\n",
       "    </tr>\n",
       "    <tr>\n",
       "      <th>3</th>\n",
       "      <td>1/7/2008</td>\n",
       "      <td>1416.180054</td>\n",
       "      <td>84.769997</td>\n",
       "      <td>75.500000</td>\n",
       "      <td>15.053</td>\n",
       "      <td>1.468299</td>\n",
       "    </tr>\n",
       "    <tr>\n",
       "      <th>4</th>\n",
       "      <td>1/8/2008</td>\n",
       "      <td>1390.189941</td>\n",
       "      <td>86.779999</td>\n",
       "      <td>76.059998</td>\n",
       "      <td>15.590</td>\n",
       "      <td>1.557099</td>\n",
       "    </tr>\n",
       "  </tbody>\n",
       "</table>\n",
       "</div>"
      ],
      "text/plain": [
       "       Date          SPX        GLD        USO     SLV   EUR/USD\n",
       "0  1/2/2008  1447.160034  84.860001  78.470001  15.180  1.471692\n",
       "1  1/3/2008  1447.160034  85.570000  78.370003  15.285  1.474491\n",
       "2  1/4/2008  1411.630005  85.129997  77.309998  15.167  1.475492\n",
       "3  1/7/2008  1416.180054  84.769997  75.500000  15.053  1.468299\n",
       "4  1/8/2008  1390.189941  86.779999  76.059998  15.590  1.557099"
      ]
     },
     "execution_count": 4,
     "metadata": {},
     "output_type": "execute_result"
    }
   ],
   "source": [
    "# print first 5 rows in the dataframe\n",
    "gold_data.head()"
   ]
  },
  {
   "cell_type": "code",
   "execution_count": 5,
   "id": "13207b26",
   "metadata": {},
   "outputs": [
    {
     "data": {
      "text/html": [
       "<div>\n",
       "<style scoped>\n",
       "    .dataframe tbody tr th:only-of-type {\n",
       "        vertical-align: middle;\n",
       "    }\n",
       "\n",
       "    .dataframe tbody tr th {\n",
       "        vertical-align: top;\n",
       "    }\n",
       "\n",
       "    .dataframe thead th {\n",
       "        text-align: right;\n",
       "    }\n",
       "</style>\n",
       "<table border=\"1\" class=\"dataframe\">\n",
       "  <thead>\n",
       "    <tr style=\"text-align: right;\">\n",
       "      <th></th>\n",
       "      <th>Date</th>\n",
       "      <th>SPX</th>\n",
       "      <th>GLD</th>\n",
       "      <th>USO</th>\n",
       "      <th>SLV</th>\n",
       "      <th>EUR/USD</th>\n",
       "    </tr>\n",
       "  </thead>\n",
       "  <tbody>\n",
       "    <tr>\n",
       "      <th>2285</th>\n",
       "      <td>5/8/2018</td>\n",
       "      <td>2671.919922</td>\n",
       "      <td>124.589996</td>\n",
       "      <td>14.0600</td>\n",
       "      <td>15.5100</td>\n",
       "      <td>1.186789</td>\n",
       "    </tr>\n",
       "    <tr>\n",
       "      <th>2286</th>\n",
       "      <td>5/9/2018</td>\n",
       "      <td>2697.790039</td>\n",
       "      <td>124.330002</td>\n",
       "      <td>14.3700</td>\n",
       "      <td>15.5300</td>\n",
       "      <td>1.184722</td>\n",
       "    </tr>\n",
       "    <tr>\n",
       "      <th>2287</th>\n",
       "      <td>5/10/2018</td>\n",
       "      <td>2723.070068</td>\n",
       "      <td>125.180000</td>\n",
       "      <td>14.4100</td>\n",
       "      <td>15.7400</td>\n",
       "      <td>1.191753</td>\n",
       "    </tr>\n",
       "    <tr>\n",
       "      <th>2288</th>\n",
       "      <td>5/14/2018</td>\n",
       "      <td>2730.129883</td>\n",
       "      <td>124.489998</td>\n",
       "      <td>14.3800</td>\n",
       "      <td>15.5600</td>\n",
       "      <td>1.193118</td>\n",
       "    </tr>\n",
       "    <tr>\n",
       "      <th>2289</th>\n",
       "      <td>5/16/2018</td>\n",
       "      <td>2725.780029</td>\n",
       "      <td>122.543800</td>\n",
       "      <td>14.4058</td>\n",
       "      <td>15.4542</td>\n",
       "      <td>1.182033</td>\n",
       "    </tr>\n",
       "  </tbody>\n",
       "</table>\n",
       "</div>"
      ],
      "text/plain": [
       "           Date          SPX         GLD      USO      SLV   EUR/USD\n",
       "2285   5/8/2018  2671.919922  124.589996  14.0600  15.5100  1.186789\n",
       "2286   5/9/2018  2697.790039  124.330002  14.3700  15.5300  1.184722\n",
       "2287  5/10/2018  2723.070068  125.180000  14.4100  15.7400  1.191753\n",
       "2288  5/14/2018  2730.129883  124.489998  14.3800  15.5600  1.193118\n",
       "2289  5/16/2018  2725.780029  122.543800  14.4058  15.4542  1.182033"
      ]
     },
     "execution_count": 5,
     "metadata": {},
     "output_type": "execute_result"
    }
   ],
   "source": [
    "# print last 5 rows of the dataframe\n",
    "gold_data.tail()"
   ]
  },
  {
   "cell_type": "code",
   "execution_count": 6,
   "id": "3487dcfd",
   "metadata": {},
   "outputs": [
    {
     "data": {
      "text/plain": [
       "(2290, 6)"
      ]
     },
     "execution_count": 6,
     "metadata": {},
     "output_type": "execute_result"
    }
   ],
   "source": [
    "# number of rows and columns\n",
    "gold_data.shape"
   ]
  },
  {
   "cell_type": "code",
   "execution_count": 7,
   "id": "f27bed6f",
   "metadata": {},
   "outputs": [
    {
     "name": "stdout",
     "output_type": "stream",
     "text": [
      "<class 'pandas.core.frame.DataFrame'>\n",
      "RangeIndex: 2290 entries, 0 to 2289\n",
      "Data columns (total 6 columns):\n",
      " #   Column   Non-Null Count  Dtype  \n",
      "---  ------   --------------  -----  \n",
      " 0   Date     2290 non-null   object \n",
      " 1   SPX      2290 non-null   float64\n",
      " 2   GLD      2290 non-null   float64\n",
      " 3   USO      2290 non-null   float64\n",
      " 4   SLV      2290 non-null   float64\n",
      " 5   EUR/USD  2290 non-null   float64\n",
      "dtypes: float64(5), object(1)\n",
      "memory usage: 107.5+ KB\n"
     ]
    }
   ],
   "source": [
    "# getting some basic informations about the data\n",
    "gold_data.info()"
   ]
  },
  {
   "cell_type": "code",
   "execution_count": 8,
   "id": "975117cb",
   "metadata": {},
   "outputs": [
    {
     "data": {
      "text/plain": [
       "Date       0\n",
       "SPX        0\n",
       "GLD        0\n",
       "USO        0\n",
       "SLV        0\n",
       "EUR/USD    0\n",
       "dtype: int64"
      ]
     },
     "execution_count": 8,
     "metadata": {},
     "output_type": "execute_result"
    }
   ],
   "source": [
    "# checking the number of missing values\n",
    "gold_data.isnull().sum()"
   ]
  },
  {
   "cell_type": "code",
   "execution_count": 9,
   "id": "ac1d334a",
   "metadata": {},
   "outputs": [
    {
     "data": {
      "text/html": [
       "<div>\n",
       "<style scoped>\n",
       "    .dataframe tbody tr th:only-of-type {\n",
       "        vertical-align: middle;\n",
       "    }\n",
       "\n",
       "    .dataframe tbody tr th {\n",
       "        vertical-align: top;\n",
       "    }\n",
       "\n",
       "    .dataframe thead th {\n",
       "        text-align: right;\n",
       "    }\n",
       "</style>\n",
       "<table border=\"1\" class=\"dataframe\">\n",
       "  <thead>\n",
       "    <tr style=\"text-align: right;\">\n",
       "      <th></th>\n",
       "      <th>SPX</th>\n",
       "      <th>GLD</th>\n",
       "      <th>USO</th>\n",
       "      <th>SLV</th>\n",
       "      <th>EUR/USD</th>\n",
       "    </tr>\n",
       "  </thead>\n",
       "  <tbody>\n",
       "    <tr>\n",
       "      <th>count</th>\n",
       "      <td>2290.000000</td>\n",
       "      <td>2290.000000</td>\n",
       "      <td>2290.000000</td>\n",
       "      <td>2290.000000</td>\n",
       "      <td>2290.000000</td>\n",
       "    </tr>\n",
       "    <tr>\n",
       "      <th>mean</th>\n",
       "      <td>1654.315776</td>\n",
       "      <td>122.732875</td>\n",
       "      <td>31.842221</td>\n",
       "      <td>20.084997</td>\n",
       "      <td>1.283653</td>\n",
       "    </tr>\n",
       "    <tr>\n",
       "      <th>std</th>\n",
       "      <td>519.111540</td>\n",
       "      <td>23.283346</td>\n",
       "      <td>19.523517</td>\n",
       "      <td>7.092566</td>\n",
       "      <td>0.131547</td>\n",
       "    </tr>\n",
       "    <tr>\n",
       "      <th>min</th>\n",
       "      <td>676.530029</td>\n",
       "      <td>70.000000</td>\n",
       "      <td>7.960000</td>\n",
       "      <td>8.850000</td>\n",
       "      <td>1.039047</td>\n",
       "    </tr>\n",
       "    <tr>\n",
       "      <th>25%</th>\n",
       "      <td>1239.874969</td>\n",
       "      <td>109.725000</td>\n",
       "      <td>14.380000</td>\n",
       "      <td>15.570000</td>\n",
       "      <td>1.171313</td>\n",
       "    </tr>\n",
       "    <tr>\n",
       "      <th>50%</th>\n",
       "      <td>1551.434998</td>\n",
       "      <td>120.580002</td>\n",
       "      <td>33.869999</td>\n",
       "      <td>17.268500</td>\n",
       "      <td>1.303297</td>\n",
       "    </tr>\n",
       "    <tr>\n",
       "      <th>75%</th>\n",
       "      <td>2073.010070</td>\n",
       "      <td>132.840004</td>\n",
       "      <td>37.827501</td>\n",
       "      <td>22.882500</td>\n",
       "      <td>1.369971</td>\n",
       "    </tr>\n",
       "    <tr>\n",
       "      <th>max</th>\n",
       "      <td>2872.870117</td>\n",
       "      <td>184.589996</td>\n",
       "      <td>117.480003</td>\n",
       "      <td>47.259998</td>\n",
       "      <td>1.598798</td>\n",
       "    </tr>\n",
       "  </tbody>\n",
       "</table>\n",
       "</div>"
      ],
      "text/plain": [
       "               SPX          GLD          USO          SLV      EUR/USD\n",
       "count  2290.000000  2290.000000  2290.000000  2290.000000  2290.000000\n",
       "mean   1654.315776   122.732875    31.842221    20.084997     1.283653\n",
       "std     519.111540    23.283346    19.523517     7.092566     0.131547\n",
       "min     676.530029    70.000000     7.960000     8.850000     1.039047\n",
       "25%    1239.874969   109.725000    14.380000    15.570000     1.171313\n",
       "50%    1551.434998   120.580002    33.869999    17.268500     1.303297\n",
       "75%    2073.010070   132.840004    37.827501    22.882500     1.369971\n",
       "max    2872.870117   184.589996   117.480003    47.259998     1.598798"
      ]
     },
     "execution_count": 9,
     "metadata": {},
     "output_type": "execute_result"
    }
   ],
   "source": [
    "# getting the statistical measures of the data\n",
    "gold_data.describe()"
   ]
  },
  {
   "cell_type": "markdown",
   "id": "953e08e1",
   "metadata": {},
   "source": [
    "# Correlation:\n",
    "\n",
    "1: Positive Correlation\n",
    "2: Negative Correlation"
   ]
  },
  {
   "cell_type": "code",
   "execution_count": 10,
   "id": "efa780ee",
   "metadata": {},
   "outputs": [],
   "source": [
    "correlation = gold_data.corr()"
   ]
  },
  {
   "cell_type": "code",
   "execution_count": 11,
   "id": "199d90fa",
   "metadata": {},
   "outputs": [
    {
     "data": {
      "text/plain": [
       "<AxesSubplot:>"
      ]
     },
     "execution_count": 11,
     "metadata": {},
     "output_type": "execute_result"
    },
    {
     "data": {
      "image/png": "[encoded data removed]",
      "text/plain": [
       "<Figure size 576x576 with 2 Axes>"
      ]
     },
     "metadata": {
      "needs_background": "light"
     },
     "output_type": "display_data"
    }
   ],
   "source": [
    "# constructing a heatmap to understand the correlatiom\n",
    "plt.figure(figsize = (8,8))\n",
    "sns.heatmap(correlation, cbar=True, square=True, fmt='.1f',annot=True, annot_kws={'size':8}, cmap='Blues')"
   ]
  },
  {
   "cell_type": "code",
   "execution_count": 12,
   "id": "82dab744",
   "metadata": {},
   "outputs": [
    {
     "name": "stdout",
     "output_type": "stream",
     "text": [
      "SPX        0.049345\n",
      "GLD        1.000000\n",
      "USO       -0.186360\n",
      "SLV        0.866632\n",
      "EUR/USD   -0.024375\n",
      "Name: GLD, dtype: float64\n"
     ]
    }
   ],
   "source": [
    "# correlation values of GLD\n",
    "print(correlation['GLD'])"
   ]
  },
  {
   "cell_type": "code",
   "execution_count": 13,
   "id": "472f287c",
   "metadata": {},
   "outputs": [
    {
     "name": "stderr",
     "output_type": "stream",
     "text": [
      "C:\\Users\\pk748\\Anaconda3\\lib\\site-packages\\seaborn\\distributions.py:2619: FutureWarning: `distplot` is a deprecated function and will be removed in a future version. Please adapt your code to use either `displot` (a figure-level function with similar flexibility) or `histplot` (an axes-level function for histograms).\n",
      "  warnings.warn(msg, FutureWarning)\n"
     ]
    },
    {
     "data": {
      "text/plain": [
       "<AxesSubplot:xlabel='GLD', ylabel='Density'>"
      ]
     },
     "execution_count": 13,
     "metadata": {},
     "output_type": "execute_result"
    },
    {
     "data": {
      "image/png": "[encoded data removed]",
      "text/plain": [
       "<Figure size 432x288 with 1 Axes>"
      ]
     },
     "metadata": {
      "needs_background": "light"
     },
     "output_type": "display_data"
    }
   ],
   "source": [
    "# checking the distribution of the GLD Price\n",
    "sns.distplot(gold_data['GLD'],color='green')"
   ]
  },
  {
   "cell_type": "markdown",
   "id": "de6cb407",
   "metadata": {},
   "source": [
    "# Splitting the Features and Target"
   ]
  },
  {
   "cell_type": "code",
   "execution_count": 14,
   "id": "81f3208d",
   "metadata": {},
   "outputs": [],
   "source": [
    "X = gold_data.drop(['Date','GLD'],axis=1)\n",
    "Y = gold_data['GLD']"
   ]
  },
  {
   "cell_type": "code",
   "execution_count": 15,
   "id": "8dd3943a",
   "metadata": {},
   "outputs": [
    {
     "name": "stdout",
     "output_type": "stream",
     "text": [
      "              SPX        USO      SLV   EUR/USD\n",
      "0     1447.160034  78.470001  15.1800  1.471692\n",
      "1     1447.160034  78.370003  15.2850  1.474491\n",
      "2     1411.630005  77.309998  15.1670  1.475492\n",
      "3     1416.180054  75.500000  15.0530  1.468299\n",
      "4     1390.189941  76.059998  15.5900  1.557099\n",
      "...           ...        ...      ...       ...\n",
      "2285  2671.919922  14.060000  15.5100  1.186789\n",
      "2286  2697.790039  14.370000  15.5300  1.184722\n",
      "2287  2723.070068  14.410000  15.7400  1.191753\n",
      "2288  2730.129883  14.380000  15.5600  1.193118\n",
      "2289  2725.780029  14.405800  15.4542  1.182033\n",
      "\n",
      "[2290 rows x 4 columns]\n"
     ]
    }
   ],
   "source": [
    "print(X)"
   ]
  },
  {
   "cell_type": "code",
   "execution_count": 16,
   "id": "7d16b09c",
   "metadata": {},
   "outputs": [
    {
     "name": "stdout",
     "output_type": "stream",
     "text": [
      "0        84.860001\n",
      "1        85.570000\n",
      "2        85.129997\n",
      "3        84.769997\n",
      "4        86.779999\n",
      "           ...    \n",
      "2285    124.589996\n",
      "2286    124.330002\n",
      "2287    125.180000\n",
      "2288    124.489998\n",
      "2289    122.543800\n",
      "Name: GLD, Length: 2290, dtype: float64\n"
     ]
    }
   ],
   "source": [
    "print(Y)"
   ]
  },
  {
   "cell_type": "markdown",
   "id": "3c8ee0b6",
   "metadata": {},
   "source": [
    "# Splitting into Training data and Test Data"
   ]
  },
  {
   "cell_type": "code",
   "execution_count": 17,
   "id": "f9c7b0f3",
   "metadata": {},
   "outputs": [],
   "source": [
    "X_train, X_test, Y_train, Y_test = train_test_split(X, Y, test_size = 0.2, random_state=2)"
   ]
  },
  {
   "cell_type": "markdown",
   "id": "f8f76d31",
   "metadata": {},
   "source": [
    "# Model Training: Random Forest Regressor"
   ]
  },
  {
   "cell_type": "code",
   "execution_count": 18,
   "id": "fdd9586a",
   "metadata": {},
   "outputs": [],
   "source": [
    "regressor = RandomForestRegressor(n_estimators=100)"
   ]
  },
  {
   "cell_type": "code",
   "execution_count": 19,
   "id": "691c7f81",
   "metadata": {},
   "outputs": [
    {
     "data": {
      "text/plain": [
       "RandomForestRegressor()"
      ]
     },
     "execution_count": 19,
     "metadata": {},
     "output_type": "execute_result"
    }
   ],
   "source": [
    "# training the model\n",
    "regressor.fit(X_train,Y_train)"
   ]
  },
  {
   "cell_type": "markdown",
   "id": "2f5632d8",
   "metadata": {},
   "source": [
    "# Model Evaluation"
   ]
  },
  {
   "cell_type": "code",
   "execution_count": 20,
   "id": "1ca63023",
   "metadata": {},
   "outputs": [],
   "source": [
    "# prediction on Test Data\n",
    "test_data_prediction = regressor.predict(X_test)"
   ]
  },
  {
   "cell_type": "code",
   "execution_count": 21,
   "id": "dab90aac",
   "metadata": {},
   "outputs": [
    {
     "name": "stdout",
     "output_type": "stream",
     "text": [
      "[168.4872992   82.10869983 115.98739991 127.59270092 120.64500119\n",
      " 154.8763974  150.34469861 126.2172001  117.46759872 125.98240074\n",
      " 116.54440099 171.9625006  141.3686988  167.89779785 115.20949987\n",
      " 117.49590048 139.86890321 169.86570074 159.17360298 159.37829919\n",
      " 155.20820078 125.37460026 175.37910014 157.30980244 125.19640067\n",
      "  93.62169952  77.29090006 120.60500017 119.1315995  167.57979981\n",
      "  88.25300044 125.25669939  91.12220063 117.79360003 121.150399\n",
      " 135.71520057 115.22790152 115.51100054 147.66939928 107.11320068\n",
      " 104.63490228  87.26609795 126.50680006 117.97579982 152.58969863\n",
      " 119.70839998 108.34099983 108.12959842  93.20700049 127.131298\n",
      "  74.65700054 113.63919911 121.33920045 111.20879913 118.79659874\n",
      " 120.68269931 158.39269924 167.15960051 146.97479735  85.74249865\n",
      "  94.31010033  86.74319901  90.51460015 118.96070079 126.32370077\n",
      " 127.74419995 169.50590019 122.30719909 117.276699    98.58559966\n",
      " 167.57640156 143.07659872 131.86670217 121.11340223 121.0299997\n",
      " 119.64090051 114.43290159 118.40100034 106.9016008  127.93330141\n",
      " 113.58100005 106.63390006 117.00810059 119.61259906  88.80170031\n",
      "  88.22649888 146.76930205 127.33529996 113.40590016 109.79239819\n",
      " 107.99959912  76.96729929 169.36010206 114.07979919 121.53809928\n",
      " 128.09960178 154.98769765  91.56419891 136.1598005  159.14120354\n",
      " 125.23550099 125.29220044 130.55170152 114.77530107 119.77030009\n",
      "  92.12929967 110.00109895 168.48860006 155.88179867 114.22089946\n",
      " 106.46500129  79.85619945 113.23850004 125.87820081 107.4979995\n",
      " 119.30550117 155.40700319 159.50519893 120.4422999  134.45070322\n",
      " 101.56509999 117.76569806 119.38210034 112.92960085 102.76809939\n",
      " 160.32259791  99.25230046 148.39849891 125.78840098 169.5473993\n",
      " 125.52599919 127.24159779 127.43750217 113.68499925 112.71530055\n",
      " 123.65569908 102.15099873  89.32609982 124.31049988 101.33629935\n",
      " 107.14299911 113.5151009  117.44560124  99.03439923 121.88420043\n",
      " 163.09329911  87.41099873 106.4962999  117.13710086 127.70950137\n",
      " 124.00780042  80.61419912 120.42740025 157.94379779  87.95179986\n",
      " 110.37169937 118.97829918 171.90049844 102.97209916 105.83350051\n",
      " 122.66760033 157.9096971   87.45409831  93.06329989 112.63750025\n",
      " 176.73070042 114.69539978 119.38970022  94.46750064 125.31880013\n",
      " 166.31360047 114.67350019 116.87930136  88.25259884 149.13870132\n",
      " 120.53499977  89.4499     111.50320018 117.04460016 118.78780129\n",
      "  88.08129922  94.3067001  116.84550038 118.48420172 120.11930026\n",
      " 126.6917988  122.00679962 149.48799983 165.63640147 118.60349947\n",
      " 120.26570148 151.31950008 118.48389909 172.37869803 105.48759921\n",
      " 104.90000137 149.39090148 113.75330083 124.90880096 147.45339984\n",
      " 119.62000141 115.39180069 112.58750014 113.32590203 140.53730139\n",
      " 117.76899763 102.96260028 115.9640014  103.82420172  98.70860022\n",
      " 117.33470086  90.5474002   91.65540069 153.38699897 102.74719968\n",
      " 154.59950093 114.32800156 139.17890063  90.24739813 115.46909963\n",
      " 114.83019965 122.98270035 121.85920017 165.30200208  92.94779953\n",
      " 135.33000152 121.31689935 120.81860063 104.56710012 143.1293029\n",
      " 121.13619923 116.64270034 113.95350066 127.03219801 122.89789934\n",
      " 125.81919926 121.24510026  86.89099903 132.6656011  144.91960236\n",
      "  92.82329918 158.27739967 159.49090338 126.41559894 165.46789943\n",
      " 108.82119939 109.62030107 103.64079833  93.80910098 128.00410321\n",
      " 106.83290079 161.46280006 121.88350036 132.00790033 130.54920198\n",
      " 160.50689909  90.29969853 175.04350212 126.73850046 126.65289912\n",
      "  86.43599916 124.51839979 150.16539701  89.73970043 106.65489965\n",
      " 108.79970001  84.55049886 135.88750038 154.9949025  139.58590303\n",
      "  73.92910047 152.72680067 126.05610004 126.70579972 127.53489885\n",
      " 108.60589988 156.04830066 114.47050102 117.05800138 125.1360994\n",
      " 154.03270206 121.30020018 156.43649832  93.04530087 125.56400146\n",
      " 125.74490057  87.97990039  92.22439923 126.15459926 128.51230375\n",
      " 113.15440005 117.46899775 120.88570024 127.0116982  119.64590106\n",
      " 135.61310064  93.9091996  119.8747009  113.18540121  94.29199935\n",
      " 108.66629985  87.28159929 108.8781993   89.77299976  92.37020027\n",
      " 131.59870331 162.37350027  89.29220046 119.62620092 133.39060168\n",
      " 123.77860017 128.09380164 102.00729836  88.79939879 131.13080051\n",
      " 119.88900033 108.49139982 168.9687006  115.16950055  86.5771993\n",
      " 118.79650087  91.01809949 161.7265998  116.53690034 121.46550056\n",
      " 160.21309825 120.04569933 112.70369945 108.43739876 126.69669936\n",
      "  75.78580048 103.00059979 128.04550304 121.81469967  92.67250014\n",
      " 132.14809986 118.18990099 116.15389977 154.21610237 160.15820085\n",
      " 110.03809955 154.95359826 119.15120048 160.33710089 118.8236006\n",
      " 157.84059901 115.16579964 116.71970035 148.86789948 114.75830105\n",
      " 125.76859874 165.72869907 117.74250006 124.89399941 153.1317035\n",
      " 153.46630215 132.1209     114.84810072 121.21840195 125.03210097\n",
      "  89.68110087 123.18040031 154.79190228 111.75890024 106.56659996\n",
      " 161.40140049 118.64059952 165.79329939 134.1651015  115.1060998\n",
      " 152.92609917 168.5837004  115.57649973 114.13310137 158.90619879\n",
      "  85.50029868 127.13470022 127.98250034 128.84529982 124.21170086\n",
      " 123.66370065  90.65570078 153.26280063  97.17549989 137.27000005\n",
      "  89.0498993  106.50940024 115.00260045 112.86940083 124.19999922\n",
      "  91.37099875 125.25540061 162.43279858 120.07009916 165.01470123\n",
      " 126.78379866 112.4363     127.71659932  94.79999911  90.96859994\n",
      " 103.12119895 120.90799991  83.39879939 126.36629974 160.39290476\n",
      " 117.18980065 118.1841998  120.18910003 122.62619927 120.10000125\n",
      " 121.53250026 118.28580064 106.67740013 148.40209987 126.21019861\n",
      " 115.62260104  74.28679984 127.84780085 154.22630026 122.82580005\n",
      " 125.60450062  88.97340036 103.95599877 124.62010049 120.26310053\n",
      "  73.48830093 151.78149994 121.25060046 104.53290012  86.6093976\n",
      " 115.23889897 172.23689841 119.98400025 160.14359809 113.05739996\n",
      " 121.39850039 118.55290124  95.99549999 118.74889997 125.82800041\n",
      " 118.45699946  96.00790061 153.473502   122.21300005 147.65719988\n",
      " 159.170402   113.88530025 122.57929954 149.79349819 127.24630027\n",
      " 165.39660054 135.69420061 119.9680995  167.15709898 108.45049914\n",
      " 121.95629873 138.27260149 106.14849849]\n"
     ]
    }
   ],
   "source": [
    "print(test_data_prediction)"
   ]
  },
  {
   "cell_type": "code",
   "execution_count": 22,
   "id": "1f62bf3e",
   "metadata": {},
   "outputs": [
    {
     "name": "stdout",
     "output_type": "stream",
     "text": [
      "R squared error :  0.9894072733829451\n"
     ]
    }
   ],
   "source": [
    "# R squared error\n",
    "error_score = metrics.r2_score(Y_test, test_data_prediction)\n",
    "print(\"R squared error : \", error_score)"
   ]
  },
  {
   "cell_type": "markdown",
   "id": "1baef968",
   "metadata": {},
   "source": [
    "# Compare the Actual Values and Predicted Values in a Plot"
   ]
  },
  {
   "cell_type": "code",
   "execution_count": 23,
   "id": "9ea460a2",
   "metadata": {},
   "outputs": [],
   "source": [
    "Y_test = list(Y_test)"
   ]
  },
  {
   "cell_type": "code",
   "execution_count": 24,
   "id": "98498c14",
   "metadata": {},
   "outputs": [
    {
     "data": {
      "image/png": "[encoded data removed]",
      "text/plain": [
       "<Figure size 432x288 with 1 Axes>"
      ]
     },
     "metadata": {
      "needs_background": "light"
     },
     "output_type": "display_data"
    }
   ],
   "source": [
    "plt.plot(Y_test, color='blue', label = 'Actual Value')\n",
    "plt.plot(test_data_prediction, color='green', label='Predicted Value')\n",
    "plt.title('Actual Price vs Predicted Price')\n",
    "plt.xlabel('Number of values')\n",
    "plt.ylabel('GLD Price')\n",
    "plt.legend()\n",
    "plt.show()"
   ]
  },
  {
   "cell_type": "code",
   "execution_count": null,
   "id": "d40aba8d",
   "metadata": {},
   "outputs": [],
   "source": []
  }
 ],
 "metadata": {
  "kernelspec": {
   "display_name": "Python 3 (ipykernel)",
   "language": "python",
   "name": "python3"
  },
  "language_info": {
   "codemirror_mode": {
    "name": "ipython",
    "version": 3
   },
   "file_extension": ".py",
   "mimetype": "text/x-python",
   "name": "python",
   "nbconvert_exporter": "python",
   "pygments_lexer": "ipython3",
   "version": "3.9.7"
  }
 },
 "nbformat": 4,
 "nbformat_minor": 5
}
